{
 "cells": [
  {
   "cell_type": "code",
   "execution_count": 1,
   "metadata": {
    "ExecuteTime": {
     "end_time": "2020-08-11T12:21:57.181881Z",
     "start_time": "2020-08-11T12:21:55.732454Z"
    }
   },
   "outputs": [],
   "source": [
    "from test import *"
   ]
  },
  {
   "cell_type": "code",
   "execution_count": 2,
   "metadata": {
    "ExecuteTime": {
     "end_time": "2020-08-11T12:21:57.191663Z",
     "start_time": "2020-08-11T12:21:57.184545Z"
    }
   },
   "outputs": [],
   "source": [
    "args = {\n",
    "    \"model_path\": \"hardnet70_cityscapes_model_2.pkl\",\n",
    "}"
   ]
  },
  {
   "cell_type": "code",
   "execution_count": 3,
   "metadata": {
    "ExecuteTime": {
     "end_time": "2020-08-11T12:21:58.411440Z",
     "start_time": "2020-08-11T12:21:58.168229Z"
    }
   },
   "outputs": [],
   "source": [
    "dev, model = init_model(args)"
   ]
  },
  {
   "cell_type": "code",
   "execution_count": 6,
   "metadata": {
    "ExecuteTime": {
     "end_time": "2020-08-11T12:21:14.978418Z",
     "start_time": "2020-08-11T12:21:14.924818Z"
    }
   },
   "outputs": [
    {
     "data": {
      "text/plain": [
       "'hardnet70_cityscapes_model_2.pkl'"
      ]
     },
     "execution_count": 6,
     "metadata": {},
     "output_type": "execute_result"
    }
   ],
   "source": [
    "args[\"model_path\"]"
   ]
  },
  {
   "cell_type": "code",
   "execution_count": 5,
   "metadata": {
    "ExecuteTime": {
     "end_time": "2020-08-11T12:22:16.197621Z",
     "start_time": "2020-08-11T12:22:16.127723Z"
    }
   },
   "outputs": [
    {
     "data": {
      "text/plain": [
       "device(type='cpu')"
      ]
     },
     "execution_count": 5,
     "metadata": {},
     "output_type": "execute_result"
    }
   ],
   "source": [
    "dev"
   ]
  },
  {
   "cell_type": "code",
   "execution_count": 7,
   "metadata": {
    "ExecuteTime": {
     "end_time": "2020-08-11T12:24:03.064800Z",
     "start_time": "2020-08-11T12:24:01.874440Z"
    }
   },
   "outputs": [
    {
     "name": "stdout",
     "output_type": "stream",
     "text": [
      "Read Input Image from : /home/ruslan/Документы/model_research/data/leftImg8bit/val/frankfurt/frankfurt_000000_001751_leftImg8bit.png\n",
      "0.7614798545837402 1597148642.038871\n"
     ]
    },
    {
     "data": {
      "text/plain": [
       "(array([[[41, 55, 34],\n",
       "         [39, 53, 33],\n",
       "         [37, 51, 33],\n",
       "         ...,\n",
       "         [ 0,  0,  0],\n",
       "         [ 0,  0,  0],\n",
       "         [14, 13,  0]],\n",
       " \n",
       "        [[62, 55, 45],\n",
       "         [58, 54, 43],\n",
       "         [54, 52, 42],\n",
       "         ...,\n",
       "         [ 0,  0,  0],\n",
       "         [ 0,  0,  0],\n",
       "         [17, 16,  0]],\n",
       " \n",
       "        [[24, 44, 50],\n",
       "         [25, 43, 47],\n",
       "         [26, 42, 45],\n",
       "         ...,\n",
       "         [ 0,  0,  0],\n",
       "         [ 0,  0,  0],\n",
       "         [19, 18,  0]],\n",
       " \n",
       "        ...,\n",
       " \n",
       "        [[80, 94, 81],\n",
       "         [80, 91, 79],\n",
       "         [76, 86, 75],\n",
       "         ...,\n",
       "         [72, 87, 76],\n",
       "         [72, 87, 76],\n",
       "         [73, 87, 76]],\n",
       " \n",
       "        [[80, 94, 81],\n",
       "         [80, 91, 79],\n",
       "         [76, 86, 75],\n",
       "         ...,\n",
       "         [80, 93, 82],\n",
       "         [74, 88, 76],\n",
       "         [74, 88, 76]],\n",
       " \n",
       "        [[80, 93, 81],\n",
       "         [79, 91, 79],\n",
       "         [75, 86, 75],\n",
       "         ...,\n",
       "         [83, 93, 83],\n",
       "         [83, 93, 83],\n",
       "         [79, 91, 81]]], dtype=uint8),\n",
       " array([[[0.41960784, 0.55686275, 0.1372549 ],\n",
       "         [0.41960784, 0.55686275, 0.1372549 ],\n",
       "         [0.41960784, 0.55686275, 0.1372549 ],\n",
       "         ...,\n",
       "         [0.2745098 , 0.2745098 , 0.2745098 ],\n",
       "         [0.2745098 , 0.2745098 , 0.2745098 ],\n",
       "         [0.2745098 , 0.2745098 , 0.2745098 ]],\n",
       " \n",
       "        [[0.41960784, 0.55686275, 0.1372549 ],\n",
       "         [0.41960784, 0.55686275, 0.1372549 ],\n",
       "         [0.41960784, 0.55686275, 0.1372549 ],\n",
       "         ...,\n",
       "         [0.2745098 , 0.2745098 , 0.2745098 ],\n",
       "         [0.2745098 , 0.2745098 , 0.2745098 ],\n",
       "         [0.2745098 , 0.2745098 , 0.2745098 ]],\n",
       " \n",
       "        [[0.41960784, 0.55686275, 0.1372549 ],\n",
       "         [0.41960784, 0.55686275, 0.1372549 ],\n",
       "         [0.41960784, 0.55686275, 0.1372549 ],\n",
       "         ...,\n",
       "         [0.2745098 , 0.2745098 , 0.2745098 ],\n",
       "         [0.2745098 , 0.2745098 , 0.2745098 ],\n",
       "         [0.2745098 , 0.2745098 , 0.2745098 ]],\n",
       " \n",
       "        ...,\n",
       " \n",
       "        [[0.50196078, 0.25098039, 0.50196078],\n",
       "         [0.50196078, 0.25098039, 0.50196078],\n",
       "         [0.50196078, 0.25098039, 0.50196078],\n",
       "         ...,\n",
       "         [0.50196078, 0.25098039, 0.50196078],\n",
       "         [0.50196078, 0.25098039, 0.50196078],\n",
       "         [0.50196078, 0.25098039, 0.50196078]],\n",
       " \n",
       "        [[0.50196078, 0.25098039, 0.50196078],\n",
       "         [0.50196078, 0.25098039, 0.50196078],\n",
       "         [0.50196078, 0.25098039, 0.50196078],\n",
       "         ...,\n",
       "         [0.50196078, 0.25098039, 0.50196078],\n",
       "         [0.50196078, 0.25098039, 0.50196078],\n",
       "         [0.50196078, 0.25098039, 0.50196078]],\n",
       " \n",
       "        [[0.50196078, 0.25098039, 0.50196078],\n",
       "         [0.50196078, 0.25098039, 0.50196078],\n",
       "         [0.50196078, 0.25098039, 0.50196078],\n",
       "         ...,\n",
       "         [0.50196078, 0.25098039, 0.50196078],\n",
       "         [0.50196078, 0.25098039, 0.50196078],\n",
       "         [0.50196078, 0.25098039, 0.50196078]]]))"
      ]
     },
     "execution_count": 7,
     "metadata": {},
     "output_type": "execute_result"
    }
   ],
   "source": [
    "process_img(\"/home/ruslan/Документы/model_research/data/leftImg8bit/val/frankfurt/frankfurt_000000_001751_leftImg8bit.png\", (540, 960), dev, model)"
   ]
  },
  {
   "cell_type": "code",
   "execution_count": null,
   "metadata": {},
   "outputs": [],
   "source": []
  }
 ],
 "metadata": {
  "kernelspec": {
   "display_name": "Python 3",
   "language": "python",
   "name": "python3"
  },
  "language_info": {
   "codemirror_mode": {
    "name": "ipython",
    "version": 3
   },
   "file_extension": ".py",
   "mimetype": "text/x-python",
   "name": "python",
   "nbconvert_exporter": "python",
   "pygments_lexer": "ipython3",
   "version": "3.8.2"
  }
 },
 "nbformat": 4,
 "nbformat_minor": 4
}
